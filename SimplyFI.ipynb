{
 "cells": [
  {
   "cell_type": "code",
   "execution_count": null,
   "id": "5632a0e8",
   "metadata": {},
   "outputs": [],
   "source": []
  },
  {
   "cell_type": "markdown",
   "id": "494d94b1",
   "metadata": {},
   "source": [
    "###### Write a python code for converting integer values to Indian currency notations, without using the currency libraries\n",
    "Example:\n",
    "input: 504678\n",
    "output: 5,04,67"
   ]
  },
  {
   "cell_type": "code",
   "execution_count": 1,
   "id": "09634d81",
   "metadata": {},
   "outputs": [],
   "source": [
    "import locale "
   ]
  },
  {
   "cell_type": "markdown",
   "id": "7495b0fb",
   "metadata": {},
   "source": [
    "To begin using the locale module you first need to set the locale"
   ]
  },
  {
   "cell_type": "code",
   "execution_count": 3,
   "id": "8e95f19c",
   "metadata": {},
   "outputs": [
    {
     "name": "stdout",
     "output_type": "stream",
     "text": [
      "₹ 5,04,678.00\n"
     ]
    }
   ],
   "source": [
    "locale.setlocale(locale.LC_ALL, '')\n",
    "\n",
    "# If you'd like groupings - set grouping to True, else set it to false or leave it out completely\n",
    "print(locale.currency(504678.00, grouping=True))"
   ]
  },
  {
   "cell_type": "markdown",
   "id": "f0dc2072",
   "metadata": {},
   "source": [
    "###### Format Number as Currency String with Babel"
   ]
  },
  {
   "cell_type": "markdown",
   "id": "1c8871b2",
   "metadata": {},
   "source": [
    "Using Babel is perhaps one of the lesser known methods, however it's very user-friendly and intuitive. It comes with number and currency formatting as well as other internationalizing tasks."
   ]
  },
  {
   "cell_type": "code",
   "execution_count": 6,
   "id": "c06259a8",
   "metadata": {},
   "outputs": [
    {
     "name": "stdout",
     "output_type": "stream",
     "text": [
      "Requirement already satisfied: Babel in c:\\users\\hp\\anaconda2\\lib\\site-packages (2.9.1)\n",
      "Requirement already satisfied: pytz>=2015.7 in c:\\users\\hp\\anaconda2\\lib\\site-packages (from Babel) (2021.3)\n",
      "Note: you may need to restart the kernel to use updated packages.\n"
     ]
    }
   ],
   "source": [
    "pip install Babel"
   ]
  },
  {
   "cell_type": "code",
   "execution_count": 7,
   "id": "86c380e2",
   "metadata": {},
   "outputs": [
    {
     "data": {
      "text/plain": [
       "'$504,678.00'"
      ]
     },
     "execution_count": 7,
     "metadata": {},
     "output_type": "execute_result"
    }
   ],
   "source": [
    "import babel.numbers\n",
    "number_string = 504678.00\n",
    "\n",
    "# The three needed arguements are the number, currency and locale\n",
    "babel.numbers.format_currency(number_string, \"USD\", locale='en_US')"
   ]
  },
  {
   "cell_type": "markdown",
   "id": "36148d53",
   "metadata": {},
   "source": [
    "##### Using the str.format() method"
   ]
  },
  {
   "cell_type": "markdown",
   "id": "35c61c47",
   "metadata": {},
   "source": [
    "The next method we'll be covering is the str.format() method, which has the advantage of being the most straight forward one:"
   ]
  },
  {
   "cell_type": "code",
   "execution_count": 10,
   "id": "7375275e",
   "metadata": {},
   "outputs": [
    {
     "name": "stdout",
     "output_type": "stream",
     "text": [
      "504,678.0\n",
      "504678.00\n",
      "$504,678.00\n"
     ]
    }
   ],
   "source": [
    "number_string = 504678.00\n",
    "# This portion is responsible for grouping the number\n",
    "number_commas_only = \"{:,}\".format(number_string)\n",
    "print(number_commas_only)\n",
    "\n",
    "# To ensure we have two decimal places\n",
    "number_two_decimal = \"{:.2f}\".format(number_string)\n",
    "print(number_two_decimal)\n",
    "\n",
    "# Both combined along with the currency symbol(in this case $)\n",
    "currency_string = \"${:,.2f}\".format(number_string)\n",
    "print(currency_string)"
   ]
  },
  {
   "cell_type": "code",
   "execution_count": null,
   "id": "fdf2bbf5",
   "metadata": {},
   "outputs": [],
   "source": []
  },
  {
   "cell_type": "markdown",
   "id": "b40c390e",
   "metadata": {},
   "source": [
    "#### Question :02"
   ]
  },
  {
   "cell_type": "markdown",
   "id": "1cae3b02",
   "metadata": {},
   "source": [
    "You won’t get caught if you hide behind someone.”\n",
    "Sang-Woo advises Gi-Hun to hide behind someone to avoid getting shot.\n",
    "Gi-Hun follows Sang-Woo's advice and hides behind Ali, who saved his life earlier. Gi-Hun and Ali\n",
    "both have the same height, K\n",
    ". Many players saw this trick and also started hiding behind Ali.\n",
    "Now, there are N\n",
    "players standing between Gi-Hun and Ali in a straight line, with the ith player having height Hi\n",
    ". Gi-Hun wants to know the minimum number of players who need to get shot so that Ali is visible\n",
    "in his line of sight."
   ]
  },
  {
   "cell_type": "markdown",
   "id": "9aca7bfc",
   "metadata": {},
   "source": [
    "Sample Input 1\n",
    "3\n",
    "4 10\n",
    "2 13 4 16\n",
    "5 8\n",
    "9 3 8 8 4\n",
    "4 6\n",
    "1 2 3 4\n",
    "\n",
    "Sample Output 1\n",
    "2\n",
    "1\n",
    "0"
   ]
  },
  {
   "cell_type": "code",
   "execution_count": 14,
   "id": "135ea057",
   "metadata": {},
   "outputs": [
    {
     "name": "stdout",
     "output_type": "stream",
     "text": [
      "3\n",
      "4 10\n",
      "2 13 4 16\n",
      "2\n",
      "5 8\n",
      "9 3 8 8 4\n",
      "1\n",
      "4 6\n",
      "1 2 3 4\n",
      "0\n"
     ]
    }
   ],
   "source": [
    "for _ in range(int(input())):\n",
    "    n,k=list(map(int,input().split()))[:2]\n",
    "    no = list(map(int,input().split()))[:n]\n",
    "    c=0\n",
    "    for i in range(n):\n",
    "        if no[i]>k:\n",
    "            c+=1\n",
    "    \n",
    "    print(c)\n",
    "            "
   ]
  },
  {
   "cell_type": "code",
   "execution_count": null,
   "id": "dfe1c0f8",
   "metadata": {},
   "outputs": [],
   "source": []
  }
 ],
 "metadata": {
  "kernelspec": {
   "display_name": "Python 3 (ipykernel)",
   "language": "python",
   "name": "python3"
  },
  "language_info": {
   "codemirror_mode": {
    "name": "ipython",
    "version": 3
   },
   "file_extension": ".py",
   "mimetype": "text/x-python",
   "name": "python",
   "nbconvert_exporter": "python",
   "pygments_lexer": "ipython3",
   "version": "3.9.7"
  }
 },
 "nbformat": 4,
 "nbformat_minor": 5
}
